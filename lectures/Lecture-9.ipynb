{
 "cells": [
  {
   "cell_type": "markdown",
   "metadata": {
    "slideshow": {
     "slide_type": "slide"
    }
   },
   "source": [
    "# Lecture 12. Domain decomposition"
   ]
  },
  {
   "cell_type": "markdown",
   "metadata": {
    "slideshow": {
     "slide_type": "slide"
    }
   },
   "source": [
    "## Literature\n",
    "\n",
    "This lecture is based on the book by Yu. Vasillesvki & M. Olshanskii Краткий курс по многосеточным методам и методам декомпозиции области."
   ]
  },
  {
   "cell_type": "markdown",
   "metadata": {
    "slideshow": {
     "slide_type": "slide"
    }
   },
   "source": [
    "## A reminder\n",
    "\n",
    "Recall complexity to solve $N\\times N$ linear system from the Poisson equation:\n",
    "* Sparse LU <font color='red'>$\\mathcal{O}(N^{3/2})$ </font>\n",
    "* Direct FFT solver  <font color='red'>$\\mathcal{O}(N \\log N)$</font> (works only in rectangular domains)\n",
    "* Iterative methods <font color='red'>$\\mathcal{O}(Nk)$</font>, $k$ is number of iterations\n",
    " * $k=\\mathcal{O}(N^2)$ - Jacobi or Gauss-Seidel\n",
    " * $k = \\mathcal{O}(N)$ - Kyrlov subspace methods (CG, GMRES)\n",
    "* **Multigrid method** <font color='red'>$\\mathcal{O}(N)$</font>. Optimal complexity, but with large constant in $\\mathcal{O}(\\cdot)$"
   ]
  },
  {
   "cell_type": "markdown",
   "metadata": {
    "slideshow": {
     "slide_type": "slide"
    }
   },
   "source": [
    "## Domain decomposition: motivation\n",
    "\n",
    "- The sub-domains can be simpler\n",
    "- In 3D complexity to solve the Poisson equation is $CN^2$. So, if we split domain into 2 parts, complexity is \n",
    "\n",
    "$$\n",
    "C(N/2)^2 + C(N/2)^2 = CN^2/2 < CN^2\n",
    "$$\n",
    "\n",
    "- Some domain decomposition methods can be parallelized since equation can be solved on multiple small domains simultaneously\n",
    "- Some physical problems are described by different PDEs in adjacent domains, so they communicate with each other via the boundary"
   ]
  },
  {
   "cell_type": "markdown",
   "metadata": {
    "slideshow": {
     "slide_type": "slide"
    }
   },
   "source": [
    "## Domain decomposition: idea\n",
    "\n",
    "\n",
    "Given a domain $\\Omega$.\n",
    "We represent it is as a union of two domain $\\Omega_1$ and $\\Omega_2$ with intersection $\\Gamma$.\n",
    "\n",
    "Then, the problem \n",
    "\n",
    "$$\n",
    "\\Delta u = f, \\quad u_{\\partial \\Omega} = g\n",
    "$$\n",
    "\n",
    "is equivalent to solving two equations\n",
    "\n",
    "1) \n",
    "$\n",
    "   \\Delta u_1 = f_1, \\quad u_1|_{\\partial \\Omega_1} = g|_{ \\partial \\Omega_1}\n",
    "$\n",
    "\n",
    "2) $ \\Delta u_2 = f_2, \\quad u_2|_{\\partial \\Omega_2} = g|_{ \\partial \\Omega_2} $\n",
    "\n",
    "with additional constraints \n",
    "\n",
    "$$u_1 \\mid_{\\Gamma} = u_2  \\mid_\\Gamma,$$\n",
    "\n",
    "and also **continuity** of the solution on the intersection $\\Gamma$:\n",
    "\n",
    "$$\n",
    "\\left.\\frac{\\partial u_1}{\\partial n} \\right|_{\\Gamma} = \\left.\\frac{\\partial u_2}{\\partial n} \\right|_{\\Gamma}.$$\n",
    "\n",
    "Can be formally written as an equation on the interface with unknown $\\lambda = u \\mid_{\\Gamma}$: \n",
    "$$ \n",
    "S \\lambda = \\chi,\n",
    "$$\n",
    "which is called Poincare-Steklov equation."
   ]
  },
  {
   "cell_type": "markdown",
   "metadata": {
    "slideshow": {
     "slide_type": "slide"
    }
   },
   "source": [
    "## The \"simplest\" iterative method: differential form\n",
    "\n",
    "The simplest iterative method for the domain decomposition is the so-called **Neumann-Dirichlet** iterative method.\n",
    "\n",
    "We successively solve the subproblems:\n",
    "    $$\n",
    "    -\\Delta u^{(k+1)}_1 = f, \\quad \\mbox{in } \\Omega_1, \\quad u^{(k+1)}_1 = 0, \\quad \\mbox{in } \\partial \\Omega_1 \\setminus \\Gamma, \\quad u^{(k+1)}_1 = \\lambda^k \\quad \\mbox{in } \\Gamma.\n",
    "    $$\n",
    "\n",
    "$$\n",
    "        -\\Delta u^{(k+1)}_2 = f, \\quad \\mbox{in } \\Omega_2, \\quad u^{(k+1)}_1 = 0, \\quad \\mbox{in } \\partial \\Omega_2 \\setminus \\Gamma, \\quad \\frac{\\partial u^{(k+1)}_2}{\\partial n_2} = -\\frac{\\partial u^{(k+1)}_1}{\\partial n_1}, \\quad \\mbox{in } \\Gamma.\n",
    "$$\n",
    "    \n",
    "And then\n",
    "\n",
    "$$\n",
    "    \\lambda^{k+1} = \\theta u_2^{(k+1)}\\mid_{\\Gamma} + (1-\\theta) \\lambda_k\n",
    "$$"
   ]
  },
  {
   "cell_type": "markdown",
   "metadata": {
    "slideshow": {
     "slide_type": "slide"
    }
   },
   "source": [
    "## Algebraic formulation\n",
    "\n",
    "Domain decomposition methods are understood in the best way when treated algebraically.\n",
    "\n",
    "In the matrix form, the system has the form\n",
    "\n",
    "$$ \\begin{bmatrix} A_{11} & A_{1 \\Gamma} & 0 \\\\\n",
    "A_{\\Gamma 1} & A_{\\Gamma}  & A_{\\Gamma 2} \\\\\n",
    "0 & A_{2 \\Gamma} & A_{22} \n",
    "\\end{bmatrix}\\begin{bmatrix} u_1 \\\\ u_{\\Gamma} \\\\ u_2 \\end{bmatrix} = \\begin{bmatrix} f_1 \\\\ f_{\\Gamma} \\\\ f_2 \\end{bmatrix}.\n",
    "$$"
   ]
  },
  {
   "cell_type": "markdown",
   "metadata": {
    "slideshow": {
     "slide_type": "fragment"
    }
   },
   "source": [
    "In FEM, the interface matrix $A_{\\Gamma}$ is formed from the contributions from two domains:\n",
    "\n",
    "$$A_{\\Gamma} = A^{(1)}_{\\Gamma} + A^{(2)}_{\\Gamma}.$$"
   ]
  },
  {
   "cell_type": "markdown",
   "metadata": {
    "slideshow": {
     "slide_type": "slide"
    }
   },
   "source": [
    "## Algebraic Poincare-Steklov equation\n",
    "\n",
    "If we eliminate $u_1$ and $u_2$ using standard block Gaussian elimination, we have the following equation on the interface:\n",
    "\n",
    "$$\\left(A_{\\Gamma} - A_{\\Gamma 1} A_{11}^{-1} A_{1 \\Gamma} - A_{\\Gamma 2} A_{22}^{-1} A_{2 \\Gamma}\\right) u_{\\Gamma} = f_{\\Gamma} - A_{\\Gamma} A^{-1}_{11} f_1 - A_{\\Gamma 2} A^{-1}_{22} f_2. $$\n",
    "\n",
    "The **Schur complement** in the continuous form is the [**Poincare-Steklov** operator](https://en.wikipedia.org/wiki/Poincar%C3%A9%E2%80%93Steklov_operator)."
   ]
  },
  {
   "cell_type": "markdown",
   "metadata": {
    "slideshow": {
     "slide_type": "slide"
    }
   },
   "source": [
    "## Rewriting the PS equation\n",
    "\n",
    "We can write it down as\n",
    "\n",
    "$$S \\lambda = \\chi, \\quad S = S_1 + S_2, \\quad \\chi = \\chi_1 + \\chi_2, \\quad S_i = A^{(i)}_{\\Gamma} - A_{\\Gamma i} A_{ii}^{-1} A_{i \\Gamma}, \\quad \\chi_i = f^{(i)}_{\\Gamma} - A_{\\Gamma i} A^{-1}_{ii} f_i.$$"
   ]
  },
  {
   "cell_type": "markdown",
   "metadata": {
    "slideshow": {
     "slide_type": "fragment"
    }
   },
   "source": [
    "The **Neumann-Dirichlet** iteration is the simple iteration (Richardson method) applied to the Schur complement:\n",
    "\n",
    "$$\\lambda^{k+1} = \\lambda^k + \\theta S^{-1}_2 (- S \\lambda^k + \\chi).$$"
   ]
  },
  {
   "cell_type": "markdown",
   "metadata": {
    "slideshow": {
     "slide_type": "fragment"
    }
   },
   "source": [
    "In order to multiply $S^{-1}_2$ by vector, it is sufficient to solve linear system \n",
    "\n",
    "$$\n",
    "   \\begin{bmatrix} A^{(2)}_{\\Gamma} & A_{\\Gamma 2} \\\\\n",
    "    A_{2 \\Gamma} & A_{22}\n",
    "    \\end{bmatrix}\n",
    "    \\begin{bmatrix} \\eta_{\\Gamma} \\\\\n",
    "    \\eta_2 \n",
    "    \\end{bmatrix}  = \\begin{bmatrix} \\chi_{\\Gamma} \\\\ 0 \\end{bmatrix}.\n",
    "$$\n",
    "\n",
    "And that is a Laplace equation with **Neumann boundary condition!**"
   ]
  },
  {
   "cell_type": "markdown",
   "metadata": {
    "slideshow": {
     "slide_type": "slide"
    }
   },
   "source": [
    "## Computational summary\n",
    "\n",
    "Solving \n",
    "\n",
    "$$S u_{\\gamma} = (S_1 + S_2) u_{\\gamma} = \\chi$$\n",
    "\n",
    "by iterative method.\n",
    "\n",
    "Multiplication by $S_1$ or $S_2$ requires solutions of linear systems with $A_{11}$ and $A_{22}$ (Dirichlet solvers).\n",
    "\n",
    "The solvers with $S_1$ and $S_2$ require the solution of **Neumann problems**."
   ]
  },
  {
   "cell_type": "markdown",
   "metadata": {
    "slideshow": {
     "slide_type": "slide"
    }
   },
   "source": [
    "## Multiple domain case\n",
    "\n",
    "In case of multiple domains, similar construct can be written down, especially for the case of **strips**.\n",
    "\n",
    "The Schur complement will be the sum of $S_i$, where $S_i$ is the interface matrix of the form\n",
    "\n",
    "$$S_i = N_i (A^{(i)}_{\\Gamma} - A_{\\Gamma i} A_{ii}^{-1} A_{i \\Gamma}) N^{\\top}_i.$$"
   ]
  },
  {
   "cell_type": "markdown",
   "metadata": {
    "slideshow": {
     "slide_type": "slide"
    }
   },
   "source": [
    "## Other ways to precondition the interface equation: non-symmetric Neumann-Dirichlet\n",
    "\n",
    "Consider the matrix $B_u$ of the form\n",
    "\n",
    "$$B_u = \\begin{bmatrix} A_{11} & A_{1 \\Gamma} & 0 \\\\\n",
    "A_{\\Gamma 1} & A^{(1)}_{\\Gamma} & 0 \\\\\n",
    "0 & A_{2 \\Gamma} & A_{22}\n",
    "\\end{bmatrix}\n",
    "$$\n",
    "\n",
    "This is a non-symmetric matrix, however on the specific subspace\n",
    "\n",
    "$$U = \\{ A_{2 \\Gamma} x_{\\Gamma} + A_{22} x_2 = 0 \\}$$\n",
    "\n",
    "it is a symmetric-positive definite and spectrally equivalent to $A$.\n",
    "\n",
    "Therefore, if at each iteration step the error belongs to the subspace $U$ (which is the case), then $B_u$ can be an efficient preconditioner.\n",
    "\n"
   ]
  },
  {
   "cell_type": "markdown",
   "metadata": {
    "slideshow": {
     "slide_type": "slide"
    }
   },
   "source": [
    "## Symmetric Neumann-Dirichlet\n",
    "\n",
    "\n",
    "The symmetric variant has the form\n",
    "\n",
    "$$B_s = \\begin{bmatrix} A_{11} & A_{1 \\Gamma} & 0 \\\\\n",
    "A_{\\Gamma 1} & A^{(1)}_{\\Gamma}+ A_{\\Gamma 2} A^{-1}_{22} A_{2 \\Gamma} & A_{\\Gamma 2} \\\\\n",
    "0 & A_{2 \\Gamma} & A_{22} \n",
    "\\end{bmatrix}\n",
    "$$\n",
    "The solution of a linear system with the matrix $B_s$ requires the solution of linear systems with matrices $A_{22}$, $B_1$, $A_{22}$.\n",
    "\n",
    "Moreover, $B_s$ is spectrally equivalent to the matrix $A$, if $A = A^{\\top}$.\n",
    "\n",
    "i.e.\n",
    "\n",
    "$$C_{21} A \\leq B_s \\leq A.$$\n",
    "\n",
    "The main disadvantage of $B_s$ is that the subdomain problems have to be solved **exactly**."
   ]
  },
  {
   "cell_type": "markdown",
   "metadata": {
    "slideshow": {
     "slide_type": "slide"
    }
   },
   "source": [
    "## Neumann-Neumann iterative\n",
    "\n",
    "For solving a linear system of the form\n",
    "\n",
    "$$S u_{\\Gamma} = \\chi, \\quad S = S_1 + S_2,$$\n",
    "\n",
    "we can use $\\frac{1}{2} S^{-1}_1 + \\frac{1}{2} S^{-1}_2$ as a preconditioner.\n",
    "\n",
    "Recall that $S^{-1}_1$ and $S^{-1}_2$ can be computed by solving Neumann boundary problems."
   ]
  },
  {
   "cell_type": "markdown",
   "metadata": {
    "slideshow": {
     "slide_type": "slide"
    }
   },
   "source": [
    "## Multiple domain case\n",
    "Neumann-Neumann method can be generalized to the multiple-domain case.\n",
    "\n",
    "The preconditioner has the form\n",
    "\n",
    "$$B_s = \\sum_{i=1}^m N_i D_i S^{-1}_i D_i N^{\\top}_i,$$\n",
    "\n",
    "where $D_i$ is a diagonal matrix that contains the inverse numbers of the domains, containing the particular node, $N_i$ is the local assembly matrix\n",
    "\n",
    "(i.e. $\\sum_{i=1}^m N_i D_i N^{\\top}_i  = I.$).\n",
    "\n",
    "The convergence estimate by Mandel given \n",
    "\n",
    "$$\\mathrm{cond}(B_S S) \\leq C\\left(1 + \\log \\frac{d}{h} \\right)\\max \\left\\{\\frac{C}{d^2}; \\log \\frac{d}{h} \\right\\}.$$\n",
    "\n",
    "In practice, the dependence on the number of subdomains is smaller, and can be removed by solving an additional problem on the grid that is created by the subdomain subdivision."
   ]
  },
  {
   "cell_type": "markdown",
   "metadata": {
    "slideshow": {
     "slide_type": "slide"
    }
   },
   "source": [
    "## Overlapping domain decomposition (Schwartz method)\n",
    "\n",
    "Much more robust (and scalable) variant can be obtained by splitting the domain into the overlapping patches:\n",
    "\n",
    "$$\\Omega = \\bigcup^m_{i=1} \\Omega_i,$$\n",
    "\n",
    "in such a way that for every $\\Omega_i$ there exist $js$ such that \n",
    "\n",
    "$$\\Omega_i \\cap \\Omega_j \\ne 0.$$"
   ]
  },
  {
   "cell_type": "markdown",
   "metadata": {
    "slideshow": {
     "slide_type": "slide"
    }
   },
   "source": [
    "## Schwartz method\n",
    "\n",
    "We solve\n",
    "\n",
    "$$-\\Delta u^{n + \\frac{i}{m}} = f \\quad \\mbox{in } \\Omega_i,$$\n",
    "\n",
    "$$u^{n + \\frac{i}{m}} = u^{n + \\frac{i-1}{m}}, \\quad \\mbox{in } \\overline{\\Omega} \\setminus \\Omega_i \\quad i = 1, \\ldots, m.$$"
   ]
  },
  {
   "cell_type": "markdown",
   "metadata": {
    "slideshow": {
     "slide_type": "slide"
    }
   },
   "source": [
    "## Multiplicative Schwartz method\n",
    "\n",
    "Let $R_i$ be the projection matrix onto the indices, corresponding to the domain (remember the subspace correction algorithm).\n",
    "\n",
    "Then, \n",
    "\n",
    "$$A_i = R_i A R^{\\top}_i,$$\n",
    "\n",
    "and one step can be written as\n",
    "\n",
    "$$A_i z_i = R_i (f - Au), \\quad u := u + R_i z_i, \\quad i = 1, \\ldots, m.$$\n",
    "\n",
    "Then the transition matrix has the form\n",
    "\n",
    "\n",
    "$$e^{n+1} = (I - P_m)\\ldots (I - P_1) e^n,$$\n",
    "where\n",
    "$$P_i = R_i A^{-1}_i R_i^{\\top}.$$\n",
    "The matrix $P_i$ is a projector (let us show that!)."
   ]
  },
  {
   "cell_type": "markdown",
   "metadata": {
    "slideshow": {
     "slide_type": "slide"
    }
   },
   "source": [
    "## Additive Schwartz method\n",
    "\n",
    "In the additive Schwartz method the iteration matrix is given as\n",
    "\n",
    "$$(I - P_m) \\ldots (I - P_1) \\approx I - P_1 -  \\ldots - P_m.$$\n",
    "\n",
    "The main benefit is that it is embarassingly parallel: subproblems are solved independently, then\n",
    "the information through the borders is exchanged."
   ]
  },
  {
   "cell_type": "markdown",
   "metadata": {
    "slideshow": {
     "slide_type": "slide"
    }
   },
   "source": [
    "## Additive Schwartz method & Block Jacobi\n",
    "\n",
    "Additive Schwartz method for non-overlapping case is just the **Block Jacobi method**:\n",
    "\n",
    "$$\n",
    "    u^{n+1} = u^n + R^\\top_1 A_{11}^{-1} R_1(f-Au^n) + R^\\top_2 A_{22}^{-1} R_2(f-Au^n) = u^n + \\begin{bmatrix}A_{11} & 0 \\\\ 0 & A_{22}\\end{bmatrix}^{-1} (f - A u^n)\n",
    "$$"
   ]
  },
  {
   "cell_type": "markdown",
   "metadata": {
    "slideshow": {
     "slide_type": "slide"
    }
   },
   "source": [
    "## Multiplicative Schwartz & Block Gauss-Seidel\n",
    "\n",
    "One iteration of the multiplicative Schwartz is equivalent to the Block Gauss-Seidel method:\n",
    "$$\n",
    "u^{n+1} = u^n + \\begin{bmatrix}A_{11} & 0 \\\\ A_{12} & A_{22}\\end{bmatrix}^{-1} (f - A u^n)\n",
    "$$"
   ]
  },
  {
   "cell_type": "markdown",
   "metadata": {
    "slideshow": {
     "slide_type": "slide"
    }
   },
   "source": [
    "## Next lecture\n",
    "- Start the advanced topics (brief overview of wavelets, sparse grids, etc.)"
   ]
  }
 ],
 "metadata": {
  "anaconda-cloud": {},
  "celltoolbar": "Slideshow",
  "kernelspec": {
   "display_name": "Python [default]",
   "language": "python",
   "name": "python2"
  },
  "language_info": {
   "codemirror_mode": {
    "name": "ipython",
    "version": 2
   },
   "file_extension": ".py",
   "mimetype": "text/x-python",
   "name": "python",
   "nbconvert_exporter": "python",
   "pygments_lexer": "ipython2",
   "version": "2.7.13"
  }
 },
 "nbformat": 4,
 "nbformat_minor": 1
}
