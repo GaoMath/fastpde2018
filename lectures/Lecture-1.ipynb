{
 "cells": [
  {
   "cell_type": "markdown",
   "metadata": {
    "slideshow": {
     "slide_type": "slide"
    }
   },
   "source": [
    "# Motivation"
   ]
  },
  {
   "cell_type": "markdown",
   "metadata": {
    "slideshow": {
     "slide_type": "slide"
    }
   },
   "source": [
    "## Why computer modelling? \n",
    "Because it is **cheaper** than real-life experiment, or in the case when real-life experiment **is not possible**."
   ]
  },
  {
   "cell_type": "markdown",
   "metadata": {
    "slideshow": {
     "slide_type": "slide"
    }
   },
   "source": [
    "## Typical steps of computer modelling\n",
    "\n",
    "1. Formulate the mathematical problem as an **equation** for some **quantities**\n",
    "\n",
    "2. Replace the continious problem by a discrete one (**discretization**)\n",
    "\n",
    "3. Solve the resulting discrete problem\n",
    "\n",
    "\n"
   ]
  },
  {
   "cell_type": "markdown",
   "metadata": {
    "slideshow": {
     "slide_type": "slide"
    }
   },
   "source": [
    "The simplest cycle: \n",
    "Mathematical model $\\to$ Discretization $\\to$ Solve"
   ]
  },
  {
   "cell_type": "markdown",
   "metadata": {
    "slideshow": {
     "slide_type": "slide"
    }
   },
   "source": [
    "## Discretization\n",
    "The discretization is replacement of the region by discrete elements:\n",
    "<img src=\"pic/airplane2.jpeg\">"
   ]
  },
  {
   "cell_type": "markdown",
   "metadata": {
    "slideshow": {
     "slide_type": "slide"
    }
   },
   "source": [
    "## Random notes\n",
    "- Discretization and solve can be connected\n",
    "- Fast solvers are needed\n",
    "- Only a subproblem in **design and optimization**\n",
    "- Many physical problems are still too complex for math (turbulence!)"
   ]
  },
  {
   "cell_type": "markdown",
   "metadata": {
    "slideshow": {
     "slide_type": "slide"
    }
   },
   "source": [
    "Consider\n",
    "<img src=\"pic/weather.jpeg\">\n",
    "\n",
    "It takes a lot to create\n",
    "\n",
    "1. A model\n",
    "2. Discretization\n",
    "3. Solvers\n",
    "\n",
    "What if the computer time to compute a **forecast for 1 day is more\n",
    "than 1 day**?"
   ]
  },
  {
   "cell_type": "markdown",
   "metadata": {
    "slideshow": {
     "slide_type": "slide"
    }
   },
   "source": [
    "Many **process in physics** are modelled as PDEs.\n",
    "\n",
    "- Diffusion processes (heat transfer), electrostatics (circuit design) Poisson equation \n",
    "- Sound propagation (noise on the streets, buildings) – Helmholtz\n",
    "equation \n",
    "- Electromagnetics – MRI (magnetic resonance imaging) –\n",
    "Maxwell equations \n",
    "- Fluid flows – Stokes / Navier Stokes equations \n",
    "\n",
    "These are all partial differential equations!"
   ]
  },
  {
   "cell_type": "markdown",
   "metadata": {
    "slideshow": {
     "slide_type": "slide"
    }
   },
   "source": [
    "PDEs appear in many areas, including\n",
    "- Modelling of physical processes (heat, elasticity, fluid flows)\n",
    "- Financial math (Black Scholes equation) \n",
    "- Chemical engineering (Smoluchowsky equation)\n",
    "- Nanoworld (Schrodinger equation) \n",
    "- Optimal control of robots (Hamilton-Jacobi-Bellman equation)\n"
   ]
  },
  {
   "cell_type": "markdown",
   "metadata": {
    "slideshow": {
     "slide_type": "slide"
    }
   },
   "source": [
    "## Why do we need fast methods?\n",
    "Because the growth of the computer power, being exponential, is still not enough!\n",
    "\n",
    "The growth due to the **algorithm improvements** is comparable (and the human brain is still the most energy-efficient computing element)\n",
    "\n",
    "<img src='pic/moore.png'>\n",
    "[Source](http://www.variousconsequences.com/2014/01/algorithmic-improvements-important-as-moores-law.html)"
   ]
  },
  {
   "cell_type": "markdown",
   "metadata": {
    "slideshow": {
     "slide_type": "slide"
    }
   },
   "source": [
    "## What do we mean by fast methods?\n",
    "By fast methods we mean **improving the asymptotics** with respect to the problem size.\n",
    "\n",
    "Consider solution of linear system with a **sparse matrix** $A$:\n",
    "\n",
    "$$Au = b,$$\n",
    "\n",
    "where $A$ is a 5-point Laplacian discretization:\n",
    "\n",
    "$$\\frac{u_{i+1, j} + u_{i-1, j} + u_{i, j-1} + u_{i, j+1} - 4 u_{ij} }{h^2} = f_{ij}.$$\n",
    "\n",
    "What are the complexities (next slide, but let us guess)."
   ]
  },
  {
   "cell_type": "markdown",
   "metadata": {
    "slideshow": {
     "slide_type": "slide"
    }
   },
   "source": [
    "## Complexity (<font color='red'> essentials </font>)\n",
    "\n",
    "- Dense Gaussian elimination: $\\mathcal{O}(N^3)$, works up to $10^4$ \n",
    "- Sparse Gaussian elimination: $\\mathcal{O}(N^{\\frac{3}{2}})$, works up to $10^6$\n",
    "- FFT methods: $\\mathcal{O}(N \\log N)$, up to $10^8$\n",
    "- Multigrid method: $\\mathcal{O}(N)$, up to $10^8$\n",
    "- Tensor methods for **particular** right-hand sides (for example, $f=1$), works up to **astronomically large sizes** ($N = 2^{50}$)."
   ]
  },
  {
   "cell_type": "markdown",
   "metadata": {
    "slideshow": {
     "slide_type": "slide"
    }
   },
   "source": [
    "## Integral equations\n",
    "Now, to integral equations!\n"
   ]
  },
  {
   "cell_type": "markdown",
   "metadata": {},
   "source": [
    "## Physics is described by PDEs\n",
    "\n",
    "The physics of our world is typically described by local conservation laws, expressed in terms of partial differential equations. \n",
    "\n",
    "The **Poisson** equation writes as\n",
    "\n",
    "$$\\Delta u  \\equiv  \\text{div} \\nabla u  = f,$$\n",
    "\n",
    "plus boundary conditions."
   ]
  },
  {
   "cell_type": "markdown",
   "metadata": {
    "slideshow": {
     "slide_type": "slide"
    }
   },
   "source": [
    "## Model problem (electrostatics)\n",
    "Suppose physical setting: we have an ideally conducting surface $\\Omega$ (for example, surface of a cube), which is attached to a battery.\n",
    "\n",
    "The charges can appear only at the surface, i.e. \n",
    "\n",
    "$$\\Delta V(x) = 0, \\quad x\\not\\in \\partial \\Omega$$\n",
    "but at the surface the potential should be constant:\n",
    "\n",
    "$$V(x) = V_0, \\quad x\\in \\partial\\Omega$$\n",
    "\n",
    "- This is a classical example of **external problem**. \n",
    "\n",
    "- The potential has to be defined in the **full** $\\mathbb{R}^3$ space.\n",
    "\n",
    "- It is quite expensive, boundary conditions on the outer boundary are not straightforward."
   ]
  },
  {
   "cell_type": "markdown",
   "metadata": {
    "slideshow": {
     "slide_type": "slide"
    }
   },
   "source": [
    "## From electrostatics to integral equations\n",
    "\n",
    "The concept of **equivalent sources** leads to the **boundary integral formulation** of the problem.\n",
    "\n",
    "The charges can appear only at the boundary. The charge creates the field $\\frac{1}{r}$.\n",
    "\n",
    "In $\\mathbb{R}^3$ function $G(x,y) =\\frac{1}{4\\pi\\|x-y\\|}$ is **fundamental solution** of the operator $\\Delta$, since it satisfies\n",
    "\n",
    "$$\\Delta G (x,y) = \\delta(x-y),$$\n",
    "\n",
    "where $\\delta$ is a **delta-function.**"
   ]
  },
  {
   "cell_type": "markdown",
   "metadata": {
    "slideshow": {
     "slide_type": "slide"
    }
   },
   "source": [
    "## BEM\n",
    "\n",
    "The boundary integral equation comes from the idea to **look for** the solution as \n",
    "\n",
    "$$V(x) = \\int_{\\partial \\Omega} \\frac{q(y)}{\\Vert x - y\\Vert} dy.$$\n",
    "\n",
    "(it is also called **single-layer potential**)."
   ]
  },
  {
   "cell_type": "markdown",
   "metadata": {
    "slideshow": {
     "slide_type": "slide"
    }
   },
   "source": [
    "## Properties\n",
    "We have\n",
    "$$\\Delta V(x) = \\int_{\\partial \\Omega} q(y) \\Delta_x\\left(\\frac{1}{\\Vert x - y\\Vert}\\right) dy = 4\\pi\\int_{\\partial \\Omega} q(y) \\delta (x-y) dy = (\\text{why?}) = 0, \\quad x\\not\\in\\partial\\Omega$$\n",
    "\n",
    "therefore it is sufficient to find the unknown function $q$ that satisfies the **Dirichlet boundary condition**\n",
    "\n",
    "$$\\int_{\\partial \\Omega} \\frac{q(y)}{\\Vert x - y\\Vert} dy = V_0, \\quad x \\in \\partial \\Omega$$\n",
    "\n",
    "That is the **first kind integral equation with singular kernel.**\n",
    "\n",
    "The main benefit is that the unknown function is defined only on $\\partial \\Omega$!\n",
    "\n",
    "However, the operator is \"non-local\" compared with the PDE formulation."
   ]
  },
  {
   "cell_type": "markdown",
   "metadata": {
    "slideshow": {
     "slide_type": "slide"
    }
   },
   "source": [
    "## Model problem: acoustics\n",
    "\n",
    "Room acoustics (for opera houses), noise assessment (for roads, building construction, railways) can be modelled in the **same fashion**\n",
    "\n",
    "<img src='pic/stravinsky.jpg' width=550>"
   ]
  },
  {
   "cell_type": "markdown",
   "metadata": {
    "slideshow": {
     "slide_type": "slide"
    }
   },
   "source": [
    "## Model problem: acoustics \n",
    "\n",
    "The underlying equation is the **Helmholtz equation**\n",
    "\n",
    "$$\\Delta p + k^2 p = f, $$\n",
    "\n",
    "plus boundary conditions (typically, **Neumann boundary conditions**), and $f$ are **sound sources** (typically, point sources).\n",
    "\n",
    "The fundamental solution is\n",
    "\n",
    "$$G(x,y) = \\frac{\\exp(i k \\Vert x - y \\Vert)}{\\Vert x - y \\Vert}.$$"
   ]
  },
  {
   "cell_type": "markdown",
   "metadata": {
    "slideshow": {
     "slide_type": "slide"
    }
   },
   "source": [
    "## Summary\n",
    "\n",
    "- Intro lecture\n",
    "- First integral equations\n"
   ]
  },
  {
   "cell_type": "markdown",
   "metadata": {
    "slideshow": {
     "slide_type": "slide"
    }
   },
   "source": [
    "## Next lecture\n",
    "- How to discretize IE (Nystrom, collocation, Galerkin method, other type of kernels)\n",
    "- What are the problems with such discretization."
   ]
  },
  {
   "cell_type": "code",
   "execution_count": 1,
   "metadata": {
    "slideshow": {
     "slide_type": "skip"
    }
   },
   "outputs": [
    {
     "data": {
      "text/html": [
       "<link href='http://fonts.googleapis.com/css?family=Fenix' rel='stylesheet' type='text/css'>\n",
       "<link href='http://fonts.googleapis.com/css?family=Alegreya+Sans:100,300,400,500,700,800,900,100italic,300italic,400italic,500italic,700italic,800italic,900italic' rel='stylesheet' type='text/css'>\n",
       "<link href='http://fonts.googleapis.com/css?family=Source+Code+Pro:300,400' rel='stylesheet' type='text/css'>\n",
       "<style>\n",
       "    @font-face {\n",
       "        font-family: \"Computer Modern\";\n",
       "        src: url('http://mirrors.ctan.org/fonts/cm-unicode/fonts/otf/cmunss.otf');\n",
       "    }\n",
       "    div.cell{\n",
       "        /*width:80%;*/\n",
       "        /*margin-left:auto !important;\n",
       "        margin-right:auto;*/\n",
       "    }\n",
       "    h1 {\n",
       "        font-family: 'Alegreya Sans', sans-serif;\n",
       "    }\n",
       "    h2 {\n",
       "        font-family: 'Fenix', serif;\n",
       "    }\n",
       "    h3{\n",
       "\t\tfont-family: 'Fenix', serif;\n",
       "        margin-top:12px;\n",
       "        margin-bottom: 3px;\n",
       "       }\n",
       "\th4{\n",
       "\t\tfont-family: 'Fenix', serif;\n",
       "       }\n",
       "    h5 {\n",
       "        font-family: 'Alegreya Sans', sans-serif;\n",
       "    }\t   \n",
       "    div.text_cell_render{\n",
       "        font-family: 'Alegreya Sans',Computer Modern, \"Helvetica Neue\", Arial, Helvetica, Geneva, sans-serif;\n",
       "        line-height: 1.2;\n",
       "        font-size: 120%;\n",
       "        /*width:70%;*/\n",
       "        /*margin-left:auto;*/\n",
       "        margin-right:auto;\n",
       "    }\n",
       "    .CodeMirror{\n",
       "            font-family: \"Source Code Pro\";\n",
       "\t\t\tfont-size: 90%;\n",
       "    }\n",
       "/*    .prompt{\n",
       "        display: None;\n",
       "    }*/\n",
       "    .text_cell_render h1 {\n",
       "        font-weight: 200;\n",
       "        font-size: 50pt;\n",
       "\t\tline-height: 110%;\n",
       "        color:#CD2305;\n",
       "        margin-bottom: 0.5em;\n",
       "        margin-top: 0.5em;\n",
       "        display: block;\n",
       "    }\t\n",
       "    .text_cell_render h5 {\n",
       "        font-weight: 300;\n",
       "        font-size: 16pt;\n",
       "        color: #CD2305;\n",
       "        font-style: italic;\n",
       "        margin-bottom: .5em;\n",
       "        margin-top: 0.5em;\n",
       "        display: block;\n",
       "    }\n",
       "    \n",
       "    li {\n",
       "        line-height: 110%;\n",
       "    }\n",
       "    .warning{\n",
       "        color: rgb( 240, 20, 20 )\n",
       "        }  \n",
       "</style>\n",
       "<script>\n",
       "    MathJax.Hub.Config({\n",
       "                        TeX: {\n",
       "                           extensions: [\"AMSmath.js\"]\n",
       "                           },\n",
       "                tex2jax: {\n",
       "                    inlineMath: [ ['$','$'], [\"\\\\(\",\"\\\\)\"] ],\n",
       "                    displayMath: [ ['$$','$$'], [\"\\\\[\",\"\\\\]\"] ]\n",
       "                },\n",
       "                displayAlign: 'center', // Change this to 'center' to center equations.\n",
       "                \"HTML-CSS\": {\n",
       "                    styles: {'.MathJax_Display': {\"margin\": 4}}\n",
       "                }\n",
       "        });\n",
       "</script>\n"
      ],
      "text/plain": [
       "<IPython.core.display.HTML object>"
      ]
     },
     "execution_count": 1,
     "metadata": {},
     "output_type": "execute_result"
    }
   ],
   "source": [
    "from IPython.core.display import HTML\n",
    "def css_styling():\n",
    "    styles = open(\"./styles/custom.css\", \"r\").read()\n",
    "    return HTML(styles)\n",
    "css_styling()"
   ]
  }
 ],
 "metadata": {
  "celltoolbar": "Slideshow",
  "kernelspec": {
   "display_name": "Python 3",
   "language": "python",
   "name": "python3"
  },
  "language_info": {
   "codemirror_mode": {
    "name": "ipython",
    "version": 3
   },
   "file_extension": ".py",
   "mimetype": "text/x-python",
   "name": "python",
   "nbconvert_exporter": "python",
   "pygments_lexer": "ipython3",
   "version": "3.6.4"
  }
 },
 "nbformat": 4,
 "nbformat_minor": 2
}
