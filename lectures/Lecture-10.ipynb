{
 "cells": [
  {
   "cell_type": "markdown",
   "metadata": {
    "slideshow": {
     "slide_type": "slide"
    }
   },
   "source": [
    "# Lecture 10. Intro to isogeometric analysis"
   ]
  },
  {
   "cell_type": "markdown",
   "metadata": {
    "slideshow": {
     "slide_type": "slide"
    }
   },
   "source": [
    "## Typical discretization scheme\n",
    "\n",
    "A typical discretization scheme: given a domain $\\Omega$, split it into small triangles/quadrilaterals.\n",
    "\n",
    "$$\\Omega_h = T_1 \\cup \\ldots \\cup T_N,$$\n",
    "\n",
    "with each element you associate a basic function $u_i$ (i.e., a piecewise-linear hat function),\n",
    "\n",
    "and approximate the solution as a linear combination:\n",
    "\n",
    "$$u \\approx u_h = \\sum_{i=1}^N c_i u_i.$$\n",
    "\n",
    "For a finite-element method the error of approximation for piecewise-linear behaves like\n",
    "\n",
    "$$\\Vert u - u_h \\Vert_{H_1} = \\mathcal{O}(h),$$\n",
    "\n",
    "i.e. we talk about **low-order** finite element method and for high accuracy we need **huge meshes**."
   ]
  },
  {
   "cell_type": "markdown",
   "metadata": {
    "slideshow": {
     "slide_type": "slide"
    }
   },
   "source": [
    "## How we represent domains?\n",
    "\n",
    "In many applications, the domains comes from CAD (computer-aided design) systems.\n",
    "\n",
    "<img src='pic/Cad_crank.jpg'>"
   ]
  },
  {
   "cell_type": "markdown",
   "metadata": {
    "slideshow": {
     "slide_type": "slide"
    }
   },
   "source": [
    "## CAD and FEM\n",
    "\n",
    "In CAD systems, the domains are represented as **patches** and **non-uniform rational basis spline**.\n"
   ]
  },
  {
   "cell_type": "markdown",
   "metadata": {
    "slideshow": {
     "slide_type": "slide"
    }
   },
   "source": [
    "## B-splines\n",
    "\n",
    "The B-splines in 1D are defined recursively.\n",
    "\n",
    "Order-0 B-splines are piecewise-constant functions.\n",
    "\n",
    "High-order B-splines are defined from the basis functions\n",
    "\n",
    "$$x^k_+ = \\begin{cases} x^k, \\quad x \\geq 0, \\\\\n",
    "                     0, \\quad \\mbox{otherwise}\n",
    "                     \\end{cases}\n",
    "                     $$\n",
    "                     \n",
    "Higher-order B-splines are defined by taking tensor-product of 1D B-splines. "
   ]
  },
  {
   "cell_type": "markdown",
   "metadata": {
    "slideshow": {
     "slide_type": "slide"
    }
   },
   "source": [
    "## B-splines (2)\n",
    "\n",
    "<img src='pic/nurbs.png'>"
   ]
  },
  {
   "cell_type": "markdown",
   "metadata": {
    "slideshow": {
     "slide_type": "slide"
    }
   },
   "source": [
    "## NURBS curve\n",
    "\n",
    "A NURBS curve is then given as\n",
    "\n",
    "$$ C(u) = \\sum_{i=1}^k \\frac{N_{i, n} w_i}{\\sum_{k=1}^j N_{j, n} w_j} P_i = \\sum_{i=1}^k R_{i, n} P_i,$$\n",
    "\n",
    "where $k$ is the number of control points $P_i$, and $w_i$ are the weights."
   ]
  },
  {
   "cell_type": "markdown",
   "metadata": {
    "slideshow": {
     "slide_type": "slide"
    }
   },
   "source": [
    "## Why NURBS are good\n",
    "\n",
    "NURBS are good for: \n",
    "\n",
    "- Inserting new points (locality) (we can do **h-refinement**)\n",
    "- Order elevation &mdash; increasing the degree of the spline locally (we can do **p-refinement**)\n",
    "- Deleting points\n",
    "- Estimation of the curvature"
   ]
  },
  {
   "cell_type": "markdown",
   "metadata": {
    "slideshow": {
     "slide_type": "slide"
    }
   },
   "source": [
    "## NURBS\n",
    "\n",
    "<img src='pic/nurbs-mod.png'>"
   ]
  },
  {
   "cell_type": "markdown",
   "metadata": {
    "slideshow": {
     "slide_type": "slide"
    }
   },
   "source": [
    "## Rational B-splines\n",
    "\n",
    "Weight-normalization can be also visualized as projective transformation from $\\mathbb{R}^{d+1}$ to $\\mathbb{R}^d$.\n",
    "\n",
    "<img src='pic/nurbs-circle.png'>"
   ]
  },
  {
   "cell_type": "markdown",
   "metadata": {
    "slideshow": {
     "slide_type": "slide"
    }
   },
   "source": [
    "## Important properties of NURBS\n",
    "\n",
    "- NURBS basis functions form a partition of unity.\n",
    "- The continuity and support of NURBS basis functions are the same as for B-splines.\n",
    "- Affine transformations in physical space are obtained by applying the transformation to the control points, that is, NURBS possess the property of affine covariance."
   ]
  },
  {
   "cell_type": "markdown",
   "metadata": {
    "slideshow": {
     "slide_type": "slide"
    }
   },
   "source": [
    "## NURBS and FEM\n",
    "\n",
    "**Typical story:** the set of patches is given, then this surface is triangulated by some internal mesher (probably very bad) to turn the model into a polygonal model.\n",
    "\n",
    "\n",
    "Then, we need  **remeshing**, adaptive mesh generation.\n",
    "\n",
    "The idea of **isogeometric analysis** by [TJR Hughes, JA Cottrell, Y Bazilevs (CMAME 2005)](https://hal.archives-ouvertes.fr/hal-01513346/document) is to use the patch representation by NURBS directly to discretize the PDEs."
   ]
  },
  {
   "cell_type": "markdown",
   "metadata": {
    "slideshow": {
     "slide_type": "slide"
    }
   },
   "source": [
    "## NURBS analysis\n",
    "\n",
    "- A mesh for a NURBS patch is defined by the product of knot vectors. For example, in three dimensions,\n",
    "a mesh is given by $N  \\times H \\times Z$.\n",
    "- Knot spans subdivide the domain into ‘‘elements’’.\n",
    "- The support of each basis function consists of a small number of ‘‘elements’’.\n",
    "- The control points associated with the basis functions define the geometry.\n",
    "- The isoparametric concept is invoked, that is, the fields in question (e.g., displacement, velocity, temperature,\n",
    "are represented in terms of the same basis functions as the geometry. The coefficients\n",
    "of the basis functions are the degrees-of-freedom, or control variables.\n",
    "- Mesh refinement strategies are developed from a combination of knot insertion and order elevation\n",
    "techniques. These enable analogues of classical h-refinement and p-refinement methods, and the new\n",
    "possibility of k-refinement."
   ]
  },
  {
   "cell_type": "markdown",
   "metadata": {
    "slideshow": {
     "slide_type": "slide"
    }
   },
   "source": [
    "## Benefits and problems\n",
    "\n",
    "- Number of patches is small (tens), number of NURBS basis functions is also small (say $10 \\times 10$) in 2D\n",
    "- The convergence rate can be exponential with the number of basis functions\n",
    "- The FEM matrix elements require quadratures and the final matrix is dense."
   ]
  },
  {
   "cell_type": "code",
   "execution_count": 1,
   "metadata": {
    "slideshow": {
     "slide_type": "skip"
    }
   },
   "outputs": [
    {
     "data": {
      "text/html": [
       "<link href='http://fonts.googleapis.com/css?family=Fenix' rel='stylesheet' type='text/css'>\n",
       "<link href='http://fonts.googleapis.com/css?family=Alegreya+Sans:100,300,400,500,700,800,900,100italic,300italic,400italic,500italic,700italic,800italic,900italic' rel='stylesheet' type='text/css'>\n",
       "<link href='http://fonts.googleapis.com/css?family=Source+Code+Pro:300,400' rel='stylesheet' type='text/css'>\n",
       "<style>\n",
       "    @font-face {\n",
       "        font-family: \"Computer Modern\";\n",
       "        src: url('http://mirrors.ctan.org/fonts/cm-unicode/fonts/otf/cmunss.otf');\n",
       "    }\n",
       "    div.cell{\n",
       "        /*width:80%;*/\n",
       "        /*margin-left:auto !important;\n",
       "        margin-right:auto;*/\n",
       "    }\n",
       "    h1 {\n",
       "        font-family: 'Alegreya Sans', sans-serif;\n",
       "    }\n",
       "    h2 {\n",
       "        font-family: 'Fenix', serif;\n",
       "    }\n",
       "    h3{\n",
       "\t\tfont-family: 'Fenix', serif;\n",
       "        margin-top:12px;\n",
       "        margin-bottom: 3px;\n",
       "       }\n",
       "\th4{\n",
       "\t\tfont-family: 'Fenix', serif;\n",
       "       }\n",
       "    h5 {\n",
       "        font-family: 'Alegreya Sans', sans-serif;\n",
       "    }\t   \n",
       "    div.text_cell_render{\n",
       "        font-family: 'Alegreya Sans',Computer Modern, \"Helvetica Neue\", Arial, Helvetica, Geneva, sans-serif;\n",
       "        line-height: 1.2;\n",
       "        font-size: 120%;\n",
       "        /*width:70%;*/\n",
       "        /*margin-left:auto;*/\n",
       "        margin-right:auto;\n",
       "    }\n",
       "    .CodeMirror{\n",
       "            font-family: \"Source Code Pro\";\n",
       "\t\t\tfont-size: 90%;\n",
       "    }\n",
       "/*    .prompt{\n",
       "        display: None;\n",
       "    }*/\n",
       "    .text_cell_render h1 {\n",
       "        font-weight: 200;\n",
       "        font-size: 50pt;\n",
       "\t\tline-height: 110%;\n",
       "        color:#CD2305;\n",
       "        margin-bottom: 0.5em;\n",
       "        margin-top: 0.5em;\n",
       "        display: block;\n",
       "    }\t\n",
       "    .text_cell_render h5 {\n",
       "        font-weight: 300;\n",
       "        font-size: 16pt;\n",
       "        color: #CD2305;\n",
       "        font-style: italic;\n",
       "        margin-bottom: .5em;\n",
       "        margin-top: 0.5em;\n",
       "        display: block;\n",
       "    }\n",
       "    \n",
       "    li {\n",
       "        line-height: 110%;\n",
       "    }\n",
       "    .warning{\n",
       "        color: rgb( 240, 20, 20 )\n",
       "        }  \n",
       "</style>\n",
       "<script>\n",
       "    MathJax.Hub.Config({\n",
       "                        TeX: {\n",
       "                           extensions: [\"AMSmath.js\"]\n",
       "                           },\n",
       "                tex2jax: {\n",
       "                    inlineMath: [ ['$','$'], [\"\\\\(\",\"\\\\)\"] ],\n",
       "                    displayMath: [ ['$$','$$'], [\"\\\\[\",\"\\\\]\"] ]\n",
       "                },\n",
       "                displayAlign: 'center', // Change this to 'center' to center equations.\n",
       "                \"HTML-CSS\": {\n",
       "                    styles: {'.MathJax_Display': {\"margin\": 4}}\n",
       "                }\n",
       "        });\n",
       "</script>\n"
      ],
      "text/plain": [
       "<IPython.core.display.HTML object>"
      ]
     },
     "execution_count": 1,
     "metadata": {},
     "output_type": "execute_result"
    }
   ],
   "source": [
    "from IPython.core.display import HTML\n",
    "def css_styling():\n",
    "    styles = open(\"./styles/custom.css\", \"r\").read()\n",
    "    return HTML(styles)\n",
    "css_styling()"
   ]
  }
 ],
 "metadata": {
  "anaconda-cloud": {},
  "celltoolbar": "Slideshow",
  "kernelspec": {
   "display_name": "Python [conda env:p3]",
   "language": "python",
   "name": "conda-env-p3-py"
  },
  "language_info": {
   "codemirror_mode": {
    "name": "ipython",
    "version": 3
   },
   "file_extension": ".py",
   "mimetype": "text/x-python",
   "name": "python",
   "nbconvert_exporter": "python",
   "pygments_lexer": "ipython3",
   "version": "3.6.0"
  }
 },
 "nbformat": 4,
 "nbformat_minor": 1
}
